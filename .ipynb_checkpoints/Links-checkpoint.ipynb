{
 "cells": [
  {
   "cell_type": "code",
   "execution_count": 3,
   "metadata": {},
   "outputs": [],
   "source": [
    "import pandas as pd\n",
    "import requests\n",
    "\n",
    "all_cases = pd.read_csv('./Data protection all CELEX.csv')\n",
    "all_celex = all_cases['CELEX number']\n",
    "all_urls = []\n",
    "\n",
    "for celex in all_celex:\n",
    "    url = 'https://eur-lex.europa.eu/legal-content/EN/TXT/HTML/?uri=CELEX:'\n",
    "    url += celex\n",
    "    all_urls.append(url)\n",
    "    \n",
    "all_sites = [requests.get(url) for url in all_urls]\n",
    "\n",
    "for celex,site in zip(all_celex,all_sites):\n",
    "    name = celex\n",
    "    open(name+'.html','wb').write(site.content)\n",
    "    \n",
    "# https://lexautomata.wordpress.com/2018/01/03/charting-eu-case-law-with-python/"
   ]
  }
 ],
 "metadata": {
  "kernelspec": {
   "display_name": "Python 3",
   "language": "python",
   "name": "python3"
  },
  "language_info": {
   "codemirror_mode": {
    "name": "ipython",
    "version": 3
   },
   "file_extension": ".py",
   "mimetype": "text/x-python",
   "name": "python",
   "nbconvert_exporter": "python",
   "pygments_lexer": "ipython3",
   "version": "3.8.5"
  }
 },
 "nbformat": 4,
 "nbformat_minor": 4
}
