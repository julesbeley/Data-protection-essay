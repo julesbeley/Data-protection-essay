{
 "cells": [
  {
   "cell_type": "code",
   "execution_count": 35,
   "metadata": {},
   "outputs": [],
   "source": [
    "import pandas as pd\n",
    "import requests\n",
    "import re\n",
    "\n",
    "all_cases = pd.read_csv('./Data protection all CELEX.csv')\n",
    "all_celex = all_cases['CELEX number']\n",
    "all_urls = []\n",
    "\n",
    "for celex in all_celex:\n",
    "    url = 'https://eur-lex.europa.eu/legal-content/EN/TXT/HTML/?uri=CELEX:'\n",
    "    url += celex\n",
    "    all_urls.append(url)\n",
    "    \n",
    "all_sites = [requests.get(url) for url in all_urls]\n",
    "\n",
    "date = re.compile('\\d{1,}.[A-Z][a-z]{1,}.\\d{4}')\n",
    "all_dates = [re.findall(date,case)[0] for case in all_cases['Title'].tolist()]\n",
    "all_dates = [re.sub('\\xa0',' ',date) for date in all_dates]\n",
    "\n",
    "for celex,site,date in zip(all_celex,all_sites,all_dates):\n",
    "    name = celex\n",
    "    open('./all cases html/'+date+' - '+name+'.html','wb').write(site.content)"
   ]
  },
  {
   "cell_type": "code",
   "execution_count": null,
   "metadata": {},
   "outputs": [],
   "source": [
    "import networkx as nx\n",
    "import glob\n",
    "from bs4 import BeautifulSoup\n",
    "import re\n",
    "\n",
    "path = './All cases html/*'\n",
    "all_paths = glob.glob(path)\n",
    "reg = re.compile('[CT].[0-9]{1,3}/[0-9]{1,2}')\n",
    "\n",
    "for path in all_paths:\n",
    "    with open(path,'rb') as case:\n",
    "        soup = BeautifulSoup(case,'lxml')\n",
    "        string = soup.get_text()\n",
    "        print(string)\n",
    "        found = re.findall(reg,string)\n",
    "        print(list(set(found)))"
   ]
  }
 ],
 "metadata": {
  "kernelspec": {
   "display_name": "Python 3",
   "language": "python",
   "name": "python3"
  },
  "language_info": {
   "codemirror_mode": {
    "name": "ipython",
    "version": 3
   },
   "file_extension": ".py",
   "mimetype": "text/x-python",
   "name": "python",
   "nbconvert_exporter": "python",
   "pygments_lexer": "ipython3",
   "version": "3.8.5"
  }
 },
 "nbformat": 4,
 "nbformat_minor": 4
}
